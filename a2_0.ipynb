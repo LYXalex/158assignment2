{
 "cells": [
  {
   "cell_type": "code",
   "execution_count": 1,
   "metadata": {},
   "outputs": [],
   "source": [
    "import gzip\n",
    "from collections import defaultdict\n",
    "import scipy\n",
    "import scipy.optimize\n",
    "import numpy as np\n",
    "import random"
   ]
  },
  {
   "cell_type": "markdown",
   "metadata": {},
   "source": [
    "## Goal:\n",
    "Given (user, music, format(optional)) tuple, predict the rating that the user will give to the music."
   ]
  },
  {
   "cell_type": "code",
   "execution_count": 86,
   "metadata": {},
   "outputs": [],
   "source": [
    "# useful fields:\n",
    "# |name       | possible value  | analysis\n",
    "# \"overall\":    1 - 5 (int)\n",
    "# \"verified\":   True / False      (Don't know meaning yet)\n",
    "# \"reviewerID\": \"A1SJL3JBBILJ66\"\n",
    "# \"asin\": \"     B0018CGCR4\"       (music ID)\n",
    "# \"format\":     \" MP3 Music\"      86.44%\n",
    "#               \" Audio CD\"       6.37%\n",
    "#               \"\" (undeclared)   6.95%\n",
    "#               \" Vinyl\"          .2%\n",
    "#               (others)          <.04%\n",
    "# \"reviewText\": \"THANK YOU\"       .09% users doesn't provide reviewText, indcicate as \"\"\n",
    "# \"summary\":    \"Five Stars\"      .002% users doesn't provide summary, indcicate as \"\"\n",
    "# \"image\":      0 (int)           .107% users provide image\n",
    "#                                 indicate number of images provided in the review\n",
    "# \"vote\":       0 (int)           4.48% reviewers are voted by others"
   ]
  },
  {
   "cell_type": "code",
   "execution_count": 7,
   "metadata": {},
   "outputs": [
    {
     "name": "stdout",
     "output_type": "stream",
     "text": [
      "Analyzing original file\n",
      "Finished parsing orinal file\n",
      "CPU times: user 9.3 s, sys: 1.82 s, total: 11.1 s\n",
      "Wall time: 11.2 s\n"
     ]
    }
   ],
   "source": [
    "%%time\n",
    "print('Analyzing original file...')\n",
    "\n",
    "# f = gzip.open(\"./data.json.zip\", 'rt', encoding=\"utf8\")\n",
    "f = open(\"./data.json\", 'rt', encoding=\"utf8\")\n",
    "\n",
    "data = f.readline()\n",
    "data = data.replace(', \"verified\": true, \"', ', \"verified\": True, \"')\n",
    "data = data.replace(', \"verified\": false, \"', ', \"verified\": False, \"')\n",
    "data = eval(data)\n",
    "\n",
    "parsed_data = open(\"pdata.json\", 'w')\n",
    "for d in data:\n",
    "    # unused fields\n",
    "    d.pop('reviewTime', None)\n",
    "    d.pop('reviewerName', None)\n",
    "    d.pop('unixReviewTime', None)\n",
    "    \n",
    "    # overall\n",
    "    d['overall'] = int(d['overall'])\n",
    "    \n",
    "    # style\n",
    "    if 'style' in d:\n",
    "        d['format'] = d['style']['Format:']\n",
    "        d.pop('style', None)\n",
    "    else:\n",
    "        d['format'] = \"\"\n",
    "    \n",
    "    # vote\n",
    "    if not 'vote' in d:\n",
    "        d['vote'] = 0\n",
    "\n",
    "    # image\n",
    "    if 'image' in d:\n",
    "        d['image'] = len(d['image']) \n",
    "    else:\n",
    "        d['image'] = 0\n",
    "        \n",
    "    if not 'reviewText' in d:\n",
    "        d['reviewText'] = \"\"        \n",
    "\n",
    "    if not 'summary' in d:\n",
    "        d['summary'] = \"\"\n",
    "    parsed_data.write(str(d)+'\\n')\n",
    "\n",
    "parsed_data.close()\n",
    "print('finished')"
   ]
  },
  {
   "cell_type": "code",
   "execution_count": 18,
   "metadata": {},
   "outputs": [
    {
     "name": "stdout",
     "output_type": "stream",
     "text": [
      "Constructing train/valid dataset & test dataset...\n",
      "finished\n",
      "size of train/valid set: 150000\t size of test set: 19781\n",
      "CPU times: user 6.08 s, sys: 203 ms, total: 6.28 s\n",
      "Wall time: 6.32 s\n"
     ]
    }
   ],
   "source": [
    "%%time\n",
    "print('Constructing train/valid dataset & test dataset...')\n",
    "\n",
    "random.seed(0) \n",
    "\n",
    "# constraint when we building the dataset:\n",
    "# ensure each user/data appear at least 4 times\n",
    "f = open(\"./pdata.json\", 'rt', encoding=\"utf8\")\n",
    "\n",
    "us = defaultdict(int)\n",
    "ms = defaultdict(int)\n",
    "train = []\n",
    "for l in f:\n",
    "    l = eval(l)\n",
    "    train.append(l)\n",
    "    us[l['reviewerID']] += 1\n",
    "    ms[l['asin']] += 1\n",
    "\n",
    "test = []\n",
    "while len(train) > 150000:\n",
    "    i = random.randint(0, len(train) - 1)\n",
    "    temp = train[i]\n",
    "    if us[temp['reviewerID']] > 4 and ms[temp['asin']] > 4:\n",
    "        us[temp['reviewerID']] -= 1\n",
    "        ms[temp['asin']] -= 1\n",
    "        test.append(temp)\n",
    "        del train[i]\n",
    "\n",
    "# write to file\n",
    "train_f = open(\"train.json\", 'w')\n",
    "for d in train:\n",
    "    train_f.write(str(d)+'\\n')\n",
    "train_f.close()\n",
    "\n",
    "test_f = open(\"test.json\", 'w')\n",
    "for d in test:\n",
    "    test_f.write(str(d)+'\\n')\n",
    "test_f.close()\n",
    "\n",
    "print('finished\\n'\n",
    "      'size of train/valid set: %d\\t size of test set: %d' % (len(train), len(test)))"
   ]
  },
  {
   "cell_type": "code",
   "execution_count": null,
   "metadata": {},
   "outputs": [],
   "source": []
  }
 ],
 "metadata": {
  "kernelspec": {
   "display_name": "Python 3",
   "language": "python",
   "name": "python3"
  },
  "language_info": {
   "codemirror_mode": {
    "name": "ipython",
    "version": 3
   },
   "file_extension": ".py",
   "mimetype": "text/x-python",
   "name": "python",
   "nbconvert_exporter": "python",
   "pygments_lexer": "ipython3",
   "version": "3.7.4"
  }
 },
 "nbformat": 4,
 "nbformat_minor": 1
}
