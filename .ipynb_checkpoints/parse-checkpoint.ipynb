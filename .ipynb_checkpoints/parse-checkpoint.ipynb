{
 "cells": [
  {
   "cell_type": "markdown",
   "metadata": {},
   "source": [
    "## Goal:\n",
    "Given (user, music, format(optional)) tuple, predict the rating that the user will give to the music."
   ]
  },
  {
   "cell_type": "code",
   "execution_count": 20,
   "metadata": {},
   "outputs": [],
   "source": [
    "from collections import defaultdict\n",
    "import random"
   ]
  },
  {
   "cell_type": "code",
   "execution_count": 21,
   "metadata": {},
   "outputs": [],
   "source": [
    "# useful fields:\n",
    "# |name       | possible value  | analysis\n",
    "# \"overall\":    1 - 5 (int)\n",
    "# \"verified\":   True / False      (Don't know meaning yet)\n",
    "# \"reviewerID\": \"A1SJL3JBBILJ66\"\n",
    "# \"asin\": \"     B0018CGCR4\"       (music ID)\n",
    "# \"format\":     \" MP3 Music\"      86.44%\n",
    "#               \" Audio CD\"       6.37%\n",
    "#               \"\" (undeclared)   6.95%\n",
    "#               \" Vinyl\"          .2%\n",
    "#               (others)          <.04%\n",
    "# \"reviewText\": \"THANK YOU\"       .09% users doesn't provide reviewText, indcicate as \"\"\n",
    "# \"summary\":    \"Five Stars\"      .002% users doesn't provide summary, indcicate as \"\"\n",
    "# \"image\":      0 (int)           .107% users provide image\n",
    "#                                 indicate number of images provided in the review\n",
    "# \"vote\":       0 (int)           4.48% reviewers are voted by others"
   ]
  },
  {
   "cell_type": "code",
   "execution_count": 22,
   "metadata": {},
   "outputs": [
    {
     "name": "stdout",
     "output_type": "stream",
     "text": [
      "Analyzing original file... "
     ]
    },
    {
     "ename": "FileNotFoundError",
     "evalue": "[Errno 2] No such file or directory: './data.json'",
     "output_type": "error",
     "traceback": [
      "\u001b[0;31m---------------------------------------------------------------------------\u001b[0m",
      "\u001b[0;31mFileNotFoundError\u001b[0m                         Traceback (most recent call last)",
      "\u001b[0;32m<timed exec>\u001b[0m in \u001b[0;36m<module>\u001b[0;34m\u001b[0m\n",
      "\u001b[0;31mFileNotFoundError\u001b[0m: [Errno 2] No such file or directory: './data.json'"
     ]
    }
   ],
   "source": [
    "%%time\n",
    "print('Analyzing original file... ', end='')\n",
    "\n",
    "# f = gzip.open(\"./data.json.zip\", 'rt', encoding=\"utf8\")\n",
    "f = open(\"./data.json\", 'rt', encoding=\"utf8\")\n",
    "\n",
    "data = f.readline()\n",
    "data = data.replace(', \"verified\": true, \"', ', \"verified\": True, \"')\n",
    "data = data.replace(', \"verified\": false, \"', ', \"verified\": False, \"')\n",
    "data = eval(data)\n",
    "\n",
    "parsed_data = open(\"pdata.json\", 'w')\n",
    "for d in data:\n",
    "    # unused fields\n",
    "    d.pop('reviewTime', None)\n",
    "    d.pop('reviewerName', None)\n",
    "    d.pop('unixReviewTime', None)\n",
    "    \n",
    "    # overall\n",
    "    d['overall'] = int(d['overall'])\n",
    "    \n",
    "    # style\n",
    "    if 'style' in d:\n",
    "        d['format'] = d['style']['Format:']\n",
    "        d.pop('style', None)\n",
    "    else:\n",
    "        d['format'] = \"\"\n",
    "    \n",
    "    # vote\n",
    "    if not 'vote' in d:\n",
    "        d['vote'] = 0\n",
    "\n",
    "    # image\n",
    "    if 'image' in d:\n",
    "        d['image'] = len(d['image']) \n",
    "    else:\n",
    "        d['image'] = 0\n",
    "        \n",
    "    if not 'reviewText' in d:\n",
    "        d['reviewText'] = \"\"        \n",
    "\n",
    "    if not 'summary' in d:\n",
    "        d['summary'] = \"\"\n",
    "    parsed_data.write(str(d)+'\\n')\n",
    "\n",
    "parsed_data.close()\n",
    "print('Finish')"
   ]
  },
  {
   "cell_type": "code",
   "execution_count": 19,
   "metadata": {},
   "outputs": [
    {
     "name": "stdout",
     "output_type": "stream",
     "text": [
      "Constructing train/valid dataset & test dataset... "
     ]
    },
    {
     "ename": "FileNotFoundError",
     "evalue": "[Errno 2] No such file or directory: './pdata.json'",
     "output_type": "error",
     "traceback": [
      "\u001b[0;31m---------------------------------------------------------------------------\u001b[0m",
      "\u001b[0;31mFileNotFoundError\u001b[0m                         Traceback (most recent call last)",
      "\u001b[0;32m<timed exec>\u001b[0m in \u001b[0;36m<module>\u001b[0;34m\u001b[0m\n",
      "\u001b[0;31mFileNotFoundError\u001b[0m: [Errno 2] No such file or directory: './pdata.json'"
     ]
    }
   ],
   "source": [
    "%%time\n",
    "print('Constructing train/valid dataset & test dataset... ', end='')\n",
    "\n",
    "# constraint when we building the dataset:\n",
    "# ensure each user/data appear at least 4 times\n",
    "# The last 10000 data in train set is good as as validtion\n",
    "\n",
    "f = open(\"./pdata.json\", 'rt', encoding=\"utf8\")\n",
    "\n",
    "train, valid, test = [], [], []\n",
    "us, ms = defaultdict(int), defaultdict(int)\n",
    "\n",
    "for l in f:\n",
    "    l = eval(l)\n",
    "    train.append(l)\n",
    "    us[l['reviewerID']] += 1\n",
    "    ms[l['asin']] += 1\n",
    "\n",
    "# extract test set \n",
    "random.seed(0)\n",
    "while len(train) > 150000:\n",
    "    i = random.randint(0, len(train) - 1)\n",
    "    temp = train[i]\n",
    "    if us[temp['reviewerID']] > 4 and ms[temp['asin']] > 4:\n",
    "        us[temp['reviewerID']] -= 1\n",
    "        ms[temp['asin']] -= 1\n",
    "        test.append(temp)\n",
    "        del train[i]\n",
    "\n",
    "# extract validation set\n",
    "random.seed(0)\n",
    "while len(train) > 140000:\n",
    "    i = random.randint(0, len(train) - 1)\n",
    "    temp = train[i]\n",
    "    if us[temp['reviewerID']] > 4 and ms[temp['asin']] > 4:\n",
    "        us[temp['reviewerID']] -= 1\n",
    "        ms[temp['asin']] -= 1\n",
    "        valid.append(temp)\n",
    "        del train[i]\n",
    "        \n",
    "# write to file\n",
    "train_f = open(\"train.json\", 'w')\n",
    "for d in train+valid:\n",
    "    train_f.write(str(d)+'\\n')\n",
    "train_f.close()\n",
    "\n",
    "test_f = open(\"test.json\", 'w')\n",
    "for d in test:\n",
    "    test_f.write(str(d)+'\\n')\n",
    "test_f.close()\n",
    "\n",
    "print('Finish\\n'\n",
    "      'Size of train/valid set: %d + %d\\n'\n",
    "      'Size of test        set: %d' % (len(train), len(valid), len(test)))"
   ]
  },
  {
   "cell_type": "code",
   "execution_count": null,
   "metadata": {},
   "outputs": [],
   "source": []
  }
 ],
 "metadata": {
  "kernelspec": {
   "display_name": "Python 3",
   "language": "python",
   "name": "python3"
  },
  "language_info": {
   "codemirror_mode": {
    "name": "ipython",
    "version": 3
   },
   "file_extension": ".py",
   "mimetype": "text/x-python",
   "name": "python",
   "nbconvert_exporter": "python",
   "pygments_lexer": "ipython3",
   "version": "3.7.4"
  }
 },
 "nbformat": 4,
 "nbformat_minor": 1
}
